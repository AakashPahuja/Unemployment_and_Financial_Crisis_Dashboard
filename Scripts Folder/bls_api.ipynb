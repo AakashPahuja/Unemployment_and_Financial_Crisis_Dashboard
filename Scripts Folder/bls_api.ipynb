{
 "cells": [
  {
   "cell_type": "code",
   "execution_count": 1,
   "metadata": {
    "colab": {
     "base_uri": "https://localhost:8080/",
     "height": 34
    },
    "colab_type": "code",
    "id": "RLSckUnAaGIs",
    "outputId": "581890d2-c1e5-4166-ac63-463369312451"
   },
   "outputs": [
    {
     "name": "stdout",
     "output_type": "stream",
     "text": [
      "Requirement already satisfied: pandas in /opt/anaconda3/lib/python3.7/site-packages (1.0.1)\n",
      "Requirement already satisfied: pytz>=2017.2 in /opt/anaconda3/lib/python3.7/site-packages (from pandas) (2019.3)\n",
      "Requirement already satisfied: python-dateutil>=2.6.1 in /opt/anaconda3/lib/python3.7/site-packages (from pandas) (2.8.1)\n",
      "Requirement already satisfied: numpy>=1.13.3 in /opt/anaconda3/lib/python3.7/site-packages (from pandas) (1.18.1)\n",
      "Requirement already satisfied: six>=1.5 in /opt/anaconda3/lib/python3.7/site-packages (from python-dateutil>=2.6.1->pandas) (1.14.0)\n",
      "Collecting pymysql\n",
      "  Using cached PyMySQL-0.9.3-py2.py3-none-any.whl (47 kB)\n",
      "Installing collected packages: pymysql\n",
      "Successfully installed pymysql-0.9.3\n"
     ]
    }
   ],
   "source": [
    "#!pip install requests\n",
    "#!pip install prettytable\n",
    "!pip install pandas\n",
    "!pip install pymysql\n",
    "#!pip install google.colab"
   ]
  },
  {
   "cell_type": "code",
   "execution_count": 20,
   "metadata": {
    "colab": {},
    "colab_type": "code",
    "id": "Eh7RWtHVavTW"
   },
   "outputs": [
    {
     "name": "stdout",
     "output_type": "stream",
     "text": [
      "Python 3.7.6\r\n"
     ]
    }
   ],
   "source": [
    "!python --version\n",
    "\n",
    "import pymysql\n",
    "import pandas as pd"
   ]
  },
  {
   "cell_type": "code",
   "execution_count": 3,
   "metadata": {
    "colab": {
     "base_uri": "https://localhost:8080/",
     "height": 54
    },
    "colab_type": "code",
    "id": "O5jrod-tdCJC",
    "outputId": "8e3df9e4-29ab-4e70-bacf-b280e629df68",
    "scrolled": true
   },
   "outputs": [
    {
     "ename": "ModuleNotFoundError",
     "evalue": "No module named 'google'",
     "output_type": "error",
     "traceback": [
      "\u001b[0;31m---------------------------------------------------------------------------\u001b[0m",
      "\u001b[0;31mModuleNotFoundError\u001b[0m                       Traceback (most recent call last)",
      "\u001b[0;32m<ipython-input-3-d5df0069828e>\u001b[0m in \u001b[0;36m<module>\u001b[0;34m\u001b[0m\n\u001b[0;32m----> 1\u001b[0;31m \u001b[0;32mfrom\u001b[0m \u001b[0mgoogle\u001b[0m\u001b[0;34m.\u001b[0m\u001b[0mcolab\u001b[0m \u001b[0;32mimport\u001b[0m \u001b[0mdrive\u001b[0m\u001b[0;34m\u001b[0m\u001b[0;34m\u001b[0m\u001b[0m\n\u001b[0m\u001b[1;32m      2\u001b[0m \u001b[0mdrive\u001b[0m\u001b[0;34m.\u001b[0m\u001b[0mmount\u001b[0m\u001b[0;34m(\u001b[0m\u001b[0;34m'/content/drive'\u001b[0m\u001b[0;34m)\u001b[0m\u001b[0;34m\u001b[0m\u001b[0;34m\u001b[0m\u001b[0m\n",
      "\u001b[0;31mModuleNotFoundError\u001b[0m: No module named 'google'"
     ]
    }
   ],
   "source": [
    "from google.colab import drive\n",
    "drive.mount('/content/drive')"
   ]
  },
  {
   "cell_type": "code",
   "execution_count": null,
   "metadata": {
    "colab": {
     "base_uri": "https://localhost:8080/",
     "height": 34
    },
    "colab_type": "code",
    "id": "3w36s0KNewjs",
    "outputId": "8ccd11aa-2f40-4bde-d758-a865d47bc6b5"
   },
   "outputs": [],
   "source": [
    "import oshttp://localhost:8888/notebooks/Documents/Learnings/MSCA/Data%20Engineering/03%20-%20Assignments/Assignment-99/bls_api.ipynb#\n",
    "arr = os.listdir()\n",
    "print(arr)"
   ]
  },
  {
   "cell_type": "code",
   "execution_count": 21,
   "metadata": {
    "colab": {},
    "colab_type": "code",
    "id": "RxMQELLp3_G-"
   },
   "outputs": [],
   "source": [
    "#extract_df = pd.read_csv('Unemployment Series ID Codes - Final Codes.csv')\n",
    "extract_df = pd.read_csv('inflationCode.csv')\n",
    "#extract_df"
   ]
  },
  {
   "cell_type": "code",
   "execution_count": null,
   "metadata": {},
   "outputs": [],
   "source": [
    "#extract_df.columns = ['code', 'sexes','races','age','education','marital_status','bls_type']"
   ]
  },
  {
   "cell_type": "code",
   "execution_count": 22,
   "metadata": {
    "colab": {},
    "colab_type": "code",
    "id": "Brk8xou71BzA",
    "scrolled": false
   },
   "outputs": [
    {
     "data": {
      "text/html": [
       "<div>\n",
       "<style scoped>\n",
       "    .dataframe tbody tr th:only-of-type {\n",
       "        vertical-align: middle;\n",
       "    }\n",
       "\n",
       "    .dataframe tbody tr th {\n",
       "        vertical-align: top;\n",
       "    }\n",
       "\n",
       "    .dataframe thead th {\n",
       "        text-align: right;\n",
       "    }\n",
       "</style>\n",
       "<table border=\"1\" class=\"dataframe\">\n",
       "  <thead>\n",
       "    <tr style=\"text-align: right;\">\n",
       "      <th></th>\n",
       "      <th>Code</th>\n",
       "    </tr>\n",
       "  </thead>\n",
       "  <tbody>\n",
       "    <tr>\n",
       "      <th>0</th>\n",
       "      <td>CUUR0000SA0</td>\n",
       "    </tr>\n",
       "    <tr>\n",
       "      <th>1</th>\n",
       "      <td>CUSR0000SA0</td>\n",
       "    </tr>\n",
       "  </tbody>\n",
       "</table>\n",
       "</div>"
      ],
      "text/plain": [
       "          Code\n",
       "0  CUUR0000SA0\n",
       "1  CUSR0000SA0"
      ]
     },
     "execution_count": 22,
     "metadata": {},
     "output_type": "execute_result"
    }
   ],
   "source": [
    "#extract_df[['Code']].to_numpy()\n",
    "extract_df "
   ]
  },
  {
   "cell_type": "code",
   "execution_count": 23,
   "metadata": {
    "colab": {},
    "colab_type": "code",
    "id": "szlxmWwL3BKv"
   },
   "outputs": [],
   "source": [
    "from itertools import chain \n",
    "\n",
    "code_list = extract_df[['Code']].values.tolist()\n",
    "li = list(chain.from_iterable(code_list))\n",
    "#li"
   ]
  },
  {
   "cell_type": "code",
   "execution_count": 24,
   "metadata": {
    "colab": {
     "base_uri": "https://localhost:8080/",
     "height": 697
    },
    "colab_type": "code",
    "id": "HbMskreSYEFj",
    "outputId": "f80b6b94-cd12-4315-b439-e3d4c806f66d"
   },
   "outputs": [
    {
     "data": {
      "text/plain": [
       "['CUUR0000SA0', 'CUSR0000SA0']"
      ]
     },
     "execution_count": 24,
     "metadata": {},
     "output_type": "execute_result"
    }
   ],
   "source": [
    "li"
   ]
  },
  {
   "cell_type": "code",
   "execution_count": null,
   "metadata": {
    "cellView": "form",
    "colab": {},
    "colab_type": "code",
    "id": "5pzMWN-LaIG6"
   },
   "outputs": [],
   "source": [
    "#@title Default title text\n",
    "import requests\n",
    "import json\n",
    "import prettytable\n",
    "headers = {'Content-type': 'application/json'}\n",
    "data = json.dumps({\"seriesid\": li[26:41] ,\"startyear\":\"2005\", \"endyear\":\"2013\"})\n",
    "p = requests.post('https://api.bls.gov/publicAPI/v2/timeseries/data/?registrationkey=60256a471f4a427c813300a92445943c&catalog=false&startyear=2010&endyear=2021', data=data, headers=headers)\n",
    "json_data = json.loads(p.text)\n",
    "\n",
    "try:\n",
    "      df = pd.DataFrame()\n",
    "      for series in json_data['Results']['series']:\n",
    "          df_initial = pd.DataFrame(series)\n",
    "          series_col = df_initial['seriesID'][0]\n",
    "          for i in range(0, len(df_initial) - 1):\n",
    "              df_row = pd.DataFrame(df_initial['data'][i])\n",
    "              df_row['seriesID'] = series_col\n",
    "              if 'code' not in str(df_row['footnotes']): \n",
    "                  df_row['footnotes'] = ''\n",
    "              else:\n",
    "                  df_row['footnotes'] = str(df_row['footnotes']).split(\"'code': '\",1)[1][:1]\n",
    "              df = df.append(df_row, ignore_index=True)\n",
    "      #return df\n",
    "except:\n",
    "      json_data['status'] == 'REQUEST_NOT_PROCESSED'\n",
    "      print('BLS API has given the following Response:', json_data['status'])\n",
    "      print('Reason:', json_data['message'])\n"
   ]
  },
  {
   "cell_type": "code",
   "execution_count": 25,
   "metadata": {
    "colab": {},
    "colab_type": "code",
    "id": "tfNKhcQYAaJV"
   },
   "outputs": [],
   "source": [
    "import pandas as pd\n",
    "import json\n",
    "import requests\n",
    "\n",
    "def get_bls_data(series, start, end):\n",
    "    headers = {'Content-Type': 'application/json'}\n",
    "    data = json.dumps({\"seriesid\": series,\"startyear\":\"%d\" % (start), \"endyear\":\"%d\" % (end)})\n",
    "    p = requests.post('https://api.bls.gov/publicAPI/v2/timeseries/data/?registrationkey=60256a471f4a427c813300a92445943c&catalog=false&startyear=2010&endyear=2021', data=data, headers=headers)\n",
    "    json_data = json.loads(p.text)\n",
    "    try:\n",
    "        df = pd.DataFrame()\n",
    "        for series in json_data['Results']['series']:\n",
    "            df_initial = pd.DataFrame(series)\n",
    "            series_col = df_initial['seriesID'][0]\n",
    "            for i in range(0, len(df_initial) - 1):\n",
    "                df_row = pd.DataFrame(df_initial['data'][i])\n",
    "                df_row['seriesID'] = series_col\n",
    "                if 'code' not in str(df_row['footnotes']): \n",
    "                    df_row['footnotes'] = ''\n",
    "                else:\n",
    "                    df_row['footnotes'] = str(df_row['footnotes']).split(\"'code': '\",1)[1][:1]\n",
    "                df = df.append(df_row, ignore_index=True)\n",
    "        return df\n",
    "    except:\n",
    "        json_data['status'] == 'REQUEST_NOT_PROCESSED'\n",
    "        print('BLS API has given the following Response:', json_data['status'])\n",
    "        print('Reason:', json_data['message'])\n",
    "        return df\n",
    "\n",
    "\n",
    "\n",
    "#writer = pd.ExcelWriter('bls.xlsx', engine='xlsxwriter', options={'strings_to_numbers': True})\n",
    "#df.to_excel(writer, sheet_name='Sheet1', index=False)\n",
    "#writer.save()"
   ]
  },
  {
   "cell_type": "code",
   "execution_count": 26,
   "metadata": {},
   "outputs": [],
   "source": [
    "#Inflation\n",
    "start = 2015\n",
    "end = 2020\n",
    "series = li\n",
    "df1 = get_bls_data(series=series, start=start, end=end)\n",
    "try:\n",
    "  df1.count()\n",
    "except:\n",
    "  print(\"count failed: \",json_data['message'])"
   ]
  },
  {
   "cell_type": "code",
   "execution_count": 37,
   "metadata": {},
   "outputs": [],
   "source": [
    "#df_final  = df1\n",
    "df_final = df_final.fillna(\"\")"
   ]
  },
  {
   "cell_type": "code",
   "execution_count": null,
   "metadata": {
    "colab": {},
    "colab_type": "code",
    "id": "hFwlt_riAnib"
   },
   "outputs": [],
   "source": [
    "start = 2014\n",
    "end = 2020\n",
    "series = li[0:25]\n",
    "df1 = get_bls_data(series=series, start=start, end=end)\n",
    "try:\n",
    "  df1.count()\n",
    "except:\n",
    "  print(\"count failed: \",json_data['message'])"
   ]
  },
  {
   "cell_type": "code",
   "execution_count": null,
   "metadata": {
    "colab": {
     "base_uri": "https://localhost:8080/",
     "height": 153
    },
    "colab_type": "code",
    "id": "Vgm3gW2fGGmj",
    "outputId": "88cac88c-6d34-4d5e-ec45-fc62bd995915"
   },
   "outputs": [],
   "source": [
    "series1 = li[26:41]\n",
    "df2 = get_bls_data(series=series1, start=start, end=end)\n",
    "df2.count()"
   ]
  },
  {
   "cell_type": "code",
   "execution_count": null,
   "metadata": {
    "colab": {
     "base_uri": "https://localhost:8080/",
     "height": 105
    },
    "colab_type": "code",
    "id": "yHXcSa2xBDEs",
    "outputId": "63c25a20-85e7-4184-db54-e806ae378bf0"
   },
   "outputs": [],
   "source": [
    "start = 2005\n",
    "end = 2013\n",
    "series = li[0:25]\n",
    "df3 = get_bls_data(series=series, start=start, end=end)\n",
    "series1 = li[26:41]\n",
    "df4 = get_bls_data(series=series1, start=start, end=end)\n",
    "#df3.count()\n",
    "df4.count()"
   ]
  },
  {
   "cell_type": "code",
   "execution_count": null,
   "metadata": {
    "colab": {
     "base_uri": "https://localhost:8080/",
     "height": 153
    },
    "colab_type": "code",
    "id": "YRPirVVTCfy9",
    "outputId": "bc693ee3-8edf-459d-ace4-031453e5ee70"
   },
   "outputs": [],
   "source": [
    "#li[26:41]\n",
    "\n",
    "df_final = df1.append(df2, ignore_index = True)\n",
    "df_final = df_final.append(df3, ignore_index = True)\n",
    "df_final = df_final.append(df4, ignore_index = True)\n",
    "\n",
    "#df_final.head()\n"
   ]
  },
  {
   "cell_type": "code",
   "execution_count": 29,
   "metadata": {
    "colab": {},
    "colab_type": "code",
    "id": "aOoV52IGlgJB"
   },
   "outputs": [],
   "source": [
    "df_final.head()\n",
    "df_final.to_csv('staging_data_inflation_2015_2020_20200603.csv')"
   ]
  },
  {
   "cell_type": "code",
   "execution_count": 30,
   "metadata": {
    "colab": {},
    "colab_type": "code",
    "id": "jCf1rKLtazvx"
   },
   "outputs": [
    {
     "name": "stdout",
     "output_type": "stream",
     "text": [
      "Database version : 5.7.25-google-log \n"
     ]
    }
   ],
   "source": [
    "# Open database connection\n",
    "db = pymysql.connect(\"35.202.249.234\",\"root\",\"rootroot\",\"DEPA_final\" )\n",
    "\n",
    "# prepare a cursor object using cursor() method\n",
    "cursor = db.cursor()\n",
    "\n",
    "# execute SQL query using execute() method.\n",
    "cursor.execute(\"SELECT VERSION()\")\n",
    "\n",
    "# Fetch a single row using fetchone() method.\n",
    "data = cursor.fetchone()\n",
    "\n",
    "print (\"Database version : %s \" % data)\n",
    "\n",
    "# disconnect from server\n",
    "#db.close()"
   ]
  },
  {
   "cell_type": "code",
   "execution_count": null,
   "metadata": {},
   "outputs": [],
   "source": [
    "# Prepare SQL query.\n",
    "sql = \"CREATE TABLE t_bls_Unemployed_codes ( \\\n",
    "  stg_id SMALLINT UNSIGNED NOT NULL AUTO_INCREMENT, \\\n",
    "  code VARCHAR(45), \\\n",
    "  sexes VARCHAR(4),\\\n",
    "  races VARCHAR(10), \\\n",
    "  age VARCHAR(10), \\\n",
    "  education VARCHAR(255), \\\n",
    "  marital_status varchar(45), \\\n",
    "  bls_type varchar(45), \\\n",
    "  ts TIMESTAMP DEFAULT CURRENT_TIMESTAMP, \\\n",
    "  PRIMARY KEY  (stg_id) \\\n",
    ") ENGINE=InnoDB DEFAULT CHARSET=utf8mb4;\"\n",
    "\n",
    "\n",
    "try:\n",
    "   # Execute the SQL command\n",
    "    a = cursor.execute(sql)\n",
    "    \n",
    "   # Fetch all the rows in a list of lists.\n",
    "   #rows = cursor.fetchall()\n",
    "except:\n",
    "    print (\"Error: unable to fetch data\");\n",
    "\n",
    "db.commit()\n",
    "\n",
    "#del df['footnotes']\n",
    "# creating column list for insertion\n",
    "cols = \"`,`\".join([str(i) for i in extract_df.columns.tolist()])\n",
    "\n",
    "\n",
    "cols\n",
    "\n",
    " df.columns = ['a', 'b']"
   ]
  },
  {
   "cell_type": "code",
   "execution_count": null,
   "metadata": {
    "colab": {},
    "colab_type": "code",
    "id": "7QHYIRmUa16z"
   },
   "outputs": [],
   "source": [
    "# Prepare SQL query.\n",
    "sql = \"CREATE TABLE t_bls_cpi ( \\\n",
    "  stg_id SMALLINT UNSIGNED NOT NULL AUTO_INCREMENT, \\\n",
    "  year VARCHAR(45), \\\n",
    "  period VARCHAR(45),\\\n",
    "  periodName VARCHAR(45), \\\n",
    "  latest VARCHAR(10), \\\n",
    "  value DOUBLE, \\\n",
    "  footnotes varchar(45), \\\n",
    "  seriesID varchar(45), \\\n",
    "  ts TIMESTAMP DEFAULT CURRENT_TIMESTAMP, \\\n",
    "  PRIMARY KEY  (stg_id) \\\n",
    ") ENGINE=InnoDB DEFAULT CHARSET=utf8mb4;\"\n",
    "\n",
    "\n",
    "try:\n",
    "   # Execute the SQL command\n",
    "    a = cursor.execute(sql)\n",
    "    \n",
    "   # Fetch all the rows in a list of lists.\n",
    "   #rows = cursor.fetchall()\n",
    "except:\n",
    "    print (\"Error: unable to fetch data\");\n",
    "\n",
    "db.commit()"
   ]
  },
  {
   "cell_type": "code",
   "execution_count": 19,
   "metadata": {},
   "outputs": [
    {
     "data": {
      "text/plain": [
       "'Code'"
      ]
     },
     "execution_count": 19,
     "metadata": {},
     "output_type": "execute_result"
    }
   ],
   "source": [
    "#del df['footnotes']\n",
    "# creating column list for insertion\n",
    "cols = \"`,`\".join([str(i) for i in extract_df.columns.tolist()])\n",
    "\n",
    "\n",
    "cols\n"
   ]
  },
  {
   "cell_type": "code",
   "execution_count": null,
   "metadata": {},
   "outputs": [],
   "source": [
    "# Insert DataFrame recrds one by one.\n",
    "for i,row in extract_df.iterrows():\n",
    "    sql = \"INSERT INTO `t_bls_Unemployed_codes` (`\" +cols + \"`) VALUES (\" + \"%s,\"*(len(row)-1) + \"%s)\"\n",
    "    cursor.execute(sql, tuple(row))\n",
    "\n",
    "    # the connection is not autocommitted by default, so we must commit to save our changes\n",
    "    db.commit()"
   ]
  },
  {
   "cell_type": "code",
   "execution_count": null,
   "metadata": {},
   "outputs": [],
   "source": [
    "df_final\n",
    "\n",
    "import numpy as np\n",
    "df_final = df_final.replace(np.nan, '', regex=True)"
   ]
  },
  {
   "cell_type": "code",
   "execution_count": null,
   "metadata": {
    "colab": {},
    "colab_type": "code",
    "id": "nKyu12OMa4jP"
   },
   "outputs": [],
   "source": [
    "# Prepare SQL query.\n",
    "sql = \"DROP TABLE t_fact_bls_Unemployed_data;\"\n",
    "\n",
    "try:\n",
    "   # Execute the SQL command\n",
    "    a = cursor.execute(sql)\n",
    "    \n",
    "   # Fetch all the rows in a list of lists.\n",
    "   #rows = cursor.fetchall()\n",
    "except:\n",
    "    print (\"Error: unable to fetch data\");\n",
    "\n",
    "db.commit()\n",
    "\n"
   ]
  },
  {
   "cell_type": "code",
   "execution_count": 38,
   "metadata": {
    "colab": {},
    "colab_type": "code",
    "id": "J-RQ28Wfa6TA"
   },
   "outputs": [
    {
     "name": "stdout",
     "output_type": "stream",
     "text": [
      "     year period periodName latest    value footnotes     seriesID\n",
      "0    2020    M05        May   true  256.394            CUUR0000SA0\n",
      "1    2020    M04      April         256.389            CUUR0000SA0\n",
      "2    2020    M03      March         258.115            CUUR0000SA0\n",
      "3    2020    M02   February         258.678            CUUR0000SA0\n",
      "4    2020    M01    January         257.971            CUUR0000SA0\n",
      "..    ...    ...        ...    ...      ...       ...          ...\n",
      "123  2015    M06       June         237.657            CUSR0000SA0\n",
      "124  2015    M05        May         237.001            CUSR0000SA0\n",
      "125  2015    M04      April         236.222            CUSR0000SA0\n",
      "126  2015    M03      March         235.976            CUSR0000SA0\n",
      "127  2015    M02   February         235.342            CUSR0000SA0\n",
      "\n",
      "[128 rows x 7 columns]\n"
     ]
    }
   ],
   "source": [
    "print(df_final)"
   ]
  },
  {
   "cell_type": "code",
   "execution_count": 39,
   "metadata": {
    "colab": {},
    "colab_type": "code",
    "id": "ZRuclTSMa74Q"
   },
   "outputs": [
    {
     "data": {
      "text/plain": [
       "'year`,`period`,`periodName`,`latest`,`value`,`footnotes`,`seriesID'"
      ]
     },
     "execution_count": 39,
     "metadata": {},
     "output_type": "execute_result"
    }
   ],
   "source": [
    "#del df['footnotes']\n",
    "# creating column list for insertion\n",
    "cols = \"`,`\".join([str(i) for i in df_final.columns.tolist()])\n",
    "\n",
    "\n",
    "cols\n",
    "\n"
   ]
  },
  {
   "cell_type": "code",
   "execution_count": 40,
   "metadata": {
    "colab": {},
    "colab_type": "code",
    "id": "fd7LxjDda_JR"
   },
   "outputs": [],
   "source": [
    "# Insert DataFrame recrds one by one.\n",
    "for i,row in df_final.iterrows():\n",
    "    sql = \"INSERT INTO `t_fact_bls_Unemployed_data` (`\" +cols + \"`) VALUES (\" + \"%s,\"*(len(row)-1) + \"%s)\"\n",
    "    cursor.execute(sql, tuple(row))\n",
    "\n",
    "    # the connection is not autocommitted by default, so we must commit to save our changes\n",
    "    db.commit()"
   ]
  },
  {
   "cell_type": "code",
   "execution_count": 18,
   "metadata": {
    "colab": {},
    "colab_type": "code",
    "id": "FbjhjJLdbBaS"
   },
   "outputs": [
    {
     "name": "stdout",
     "output_type": "stream",
     "text": [
      "cursor.execute output:  5167\n"
     ]
    },
    {
     "data": {
      "text/html": [
       "<div>\n",
       "<style scoped>\n",
       "    .dataframe tbody tr th:only-of-type {\n",
       "        vertical-align: middle;\n",
       "    }\n",
       "\n",
       "    .dataframe tbody tr th {\n",
       "        vertical-align: top;\n",
       "    }\n",
       "\n",
       "    .dataframe thead th {\n",
       "        text-align: right;\n",
       "    }\n",
       "</style>\n",
       "<table border=\"1\" class=\"dataframe\">\n",
       "  <thead>\n",
       "    <tr style=\"text-align: right;\">\n",
       "      <th></th>\n",
       "      <th>stg_id</th>\n",
       "      <th>year</th>\n",
       "      <th>period</th>\n",
       "      <th>periodName</th>\n",
       "      <th>latest</th>\n",
       "      <th>value</th>\n",
       "      <th>footnotes</th>\n",
       "      <th>seriesID</th>\n",
       "      <th>ts</th>\n",
       "    </tr>\n",
       "  </thead>\n",
       "  <tbody>\n",
       "    <tr>\n",
       "      <th>0</th>\n",
       "      <td>1</td>\n",
       "      <td>2020</td>\n",
       "      <td>M04</td>\n",
       "      <td>April</td>\n",
       "      <td>true</td>\n",
       "      <td>1816.0</td>\n",
       "      <td></td>\n",
       "      <td>LNU03027659</td>\n",
       "      <td>2020-06-05 03:32:59</td>\n",
       "    </tr>\n",
       "    <tr>\n",
       "      <th>1</th>\n",
       "      <td>2</td>\n",
       "      <td>2020</td>\n",
       "      <td>M03</td>\n",
       "      <td>March</td>\n",
       "      <td></td>\n",
       "      <td>745.0</td>\n",
       "      <td></td>\n",
       "      <td>LNU03027659</td>\n",
       "      <td>2020-06-05 03:32:59</td>\n",
       "    </tr>\n",
       "    <tr>\n",
       "      <th>2</th>\n",
       "      <td>3</td>\n",
       "      <td>2020</td>\n",
       "      <td>M02</td>\n",
       "      <td>February</td>\n",
       "      <td></td>\n",
       "      <td>671.0</td>\n",
       "      <td></td>\n",
       "      <td>LNU03027659</td>\n",
       "      <td>2020-06-05 03:32:59</td>\n",
       "    </tr>\n",
       "    <tr>\n",
       "      <th>3</th>\n",
       "      <td>4</td>\n",
       "      <td>2020</td>\n",
       "      <td>M01</td>\n",
       "      <td>January</td>\n",
       "      <td></td>\n",
       "      <td>711.0</td>\n",
       "      <td></td>\n",
       "      <td>LNU03027659</td>\n",
       "      <td>2020-06-05 03:32:59</td>\n",
       "    </tr>\n",
       "    <tr>\n",
       "      <th>4</th>\n",
       "      <td>5</td>\n",
       "      <td>2019</td>\n",
       "      <td>M12</td>\n",
       "      <td>December</td>\n",
       "      <td></td>\n",
       "      <td>588.0</td>\n",
       "      <td></td>\n",
       "      <td>LNU03027659</td>\n",
       "      <td>2020-06-05 03:32:59</td>\n",
       "    </tr>\n",
       "    <tr>\n",
       "      <th>...</th>\n",
       "      <td>...</td>\n",
       "      <td>...</td>\n",
       "      <td>...</td>\n",
       "      <td>...</td>\n",
       "      <td>...</td>\n",
       "      <td>...</td>\n",
       "      <td>...</td>\n",
       "      <td>...</td>\n",
       "      <td>...</td>\n",
       "    </tr>\n",
       "    <tr>\n",
       "      <th>5162</th>\n",
       "      <td>5163</td>\n",
       "      <td>2005</td>\n",
       "      <td>M06</td>\n",
       "      <td>June</td>\n",
       "      <td>None</td>\n",
       "      <td>193.7</td>\n",
       "      <td></td>\n",
       "      <td>CUSR0000SA0</td>\n",
       "      <td>2020-06-11 00:19:20</td>\n",
       "    </tr>\n",
       "    <tr>\n",
       "      <th>5163</th>\n",
       "      <td>5164</td>\n",
       "      <td>2005</td>\n",
       "      <td>M05</td>\n",
       "      <td>May</td>\n",
       "      <td>None</td>\n",
       "      <td>193.6</td>\n",
       "      <td></td>\n",
       "      <td>CUSR0000SA0</td>\n",
       "      <td>2020-06-11 00:19:20</td>\n",
       "    </tr>\n",
       "    <tr>\n",
       "      <th>5164</th>\n",
       "      <td>5165</td>\n",
       "      <td>2005</td>\n",
       "      <td>M04</td>\n",
       "      <td>April</td>\n",
       "      <td>None</td>\n",
       "      <td>193.7</td>\n",
       "      <td></td>\n",
       "      <td>CUSR0000SA0</td>\n",
       "      <td>2020-06-11 00:19:20</td>\n",
       "    </tr>\n",
       "    <tr>\n",
       "      <th>5165</th>\n",
       "      <td>5166</td>\n",
       "      <td>2005</td>\n",
       "      <td>M03</td>\n",
       "      <td>March</td>\n",
       "      <td>None</td>\n",
       "      <td>193.1</td>\n",
       "      <td></td>\n",
       "      <td>CUSR0000SA0</td>\n",
       "      <td>2020-06-11 00:19:20</td>\n",
       "    </tr>\n",
       "    <tr>\n",
       "      <th>5166</th>\n",
       "      <td>5167</td>\n",
       "      <td>2005</td>\n",
       "      <td>M02</td>\n",
       "      <td>February</td>\n",
       "      <td>None</td>\n",
       "      <td>192.4</td>\n",
       "      <td></td>\n",
       "      <td>CUSR0000SA0</td>\n",
       "      <td>2020-06-11 00:19:20</td>\n",
       "    </tr>\n",
       "  </tbody>\n",
       "</table>\n",
       "<p>5167 rows × 9 columns</p>\n",
       "</div>"
      ],
      "text/plain": [
       "0     stg_id  year period periodName latest   value footnotes     seriesID  \\\n",
       "0          1  2020    M04      April   true  1816.0            LNU03027659   \n",
       "1          2  2020    M03      March          745.0            LNU03027659   \n",
       "2          3  2020    M02   February          671.0            LNU03027659   \n",
       "3          4  2020    M01    January          711.0            LNU03027659   \n",
       "4          5  2019    M12   December          588.0            LNU03027659   \n",
       "...      ...   ...    ...        ...    ...     ...       ...          ...   \n",
       "5162    5163  2005    M06       June   None   193.7            CUSR0000SA0   \n",
       "5163    5164  2005    M05        May   None   193.6            CUSR0000SA0   \n",
       "5164    5165  2005    M04      April   None   193.7            CUSR0000SA0   \n",
       "5165    5166  2005    M03      March   None   193.1            CUSR0000SA0   \n",
       "5166    5167  2005    M02   February   None   192.4            CUSR0000SA0   \n",
       "\n",
       "0                     ts  \n",
       "0    2020-06-05 03:32:59  \n",
       "1    2020-06-05 03:32:59  \n",
       "2    2020-06-05 03:32:59  \n",
       "3    2020-06-05 03:32:59  \n",
       "4    2020-06-05 03:32:59  \n",
       "...                  ...  \n",
       "5162 2020-06-11 00:19:20  \n",
       "5163 2020-06-11 00:19:20  \n",
       "5164 2020-06-11 00:19:20  \n",
       "5165 2020-06-11 00:19:20  \n",
       "5166 2020-06-11 00:19:20  \n",
       "\n",
       "[5167 rows x 9 columns]"
      ]
     },
     "execution_count": 18,
     "metadata": {},
     "output_type": "execute_result"
    }
   ],
   "source": [
    "sql = \"select * from t_fact_bls_Unemployed_data;\" \n",
    "\n",
    "try:\n",
    "   # Execute the SQL command\n",
    "   a = cursor.execute(sql)\n",
    "    \n",
    "   # Fetch all the rows in a list of lists.\n",
    "   rows = cursor.fetchall()\n",
    "except:\n",
    "    print (\"Error: unable to fetch data\")\n",
    "\n",
    "print(\"cursor.execute output: \",a)\n",
    "\n",
    "df = \"\";\n",
    "\n",
    "#Get columns names\n",
    "try:\n",
    "    hd = pd.DataFrame(i[0] for i in cursor.description)\n",
    "    df = pd.DataFrame( [[ij for ij in i] for i in rows] )\n",
    "    df.columns = hd[0]\n",
    "    #df.head();\n",
    "except:\n",
    "    print (\"Empty data returned.\")\n",
    "\n",
    "#Select head function. \n",
    "df"
   ]
  },
  {
   "cell_type": "code",
   "execution_count": 41,
   "metadata": {
    "colab": {},
    "colab_type": "code",
    "id": "4K8a_Z9jbE0R"
   },
   "outputs": [],
   "source": [
    "db.commit()\n",
    "db.close()"
   ]
  },
  {
   "cell_type": "markdown",
   "metadata": {
    "colab_type": "text",
    "id": "ORIFb3d0bGkb"
   },
   "source": [
    "Sites to checkout. \n",
    "https://www.dataquest.io/blog/sql-insert-tutorial/\n",
    "https://datatofish.com/load-json-pandas-dataframe/\n"
   ]
  }
 ],
 "metadata": {
  "colab": {
   "collapsed_sections": [],
   "name": "bls-api.ipynb",
   "provenance": [],
   "toc_visible": true
  },
  "kernelspec": {
   "display_name": "Python 3",
   "language": "python",
   "name": "python3"
  },
  "language_info": {
   "codemirror_mode": {
    "name": "ipython",
    "version": 3
   },
   "file_extension": ".py",
   "mimetype": "text/x-python",
   "name": "python",
   "nbconvert_exporter": "python",
   "pygments_lexer": "ipython3",
   "version": "3.7.6"
  }
 },
 "nbformat": 4,
 "nbformat_minor": 1
}
